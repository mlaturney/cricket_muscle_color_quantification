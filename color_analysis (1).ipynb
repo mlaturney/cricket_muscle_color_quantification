{
 "cells": [
  {
   "cell_type": "code",
   "execution_count": 2,
   "id": "75ebc177-bd0c-4934-92a3-86665d8151f5",
   "metadata": {
    "tags": []
   },
   "outputs": [
    {
     "name": "stderr",
     "output_type": "stream",
     "text": [
      "/Users/meghanlaturney/anaconda3/lib/python3.11/site-packages/pandas/core/arrays/masked.py:60: UserWarning: Pandas requires version '1.3.6' or newer of 'bottleneck' (version '1.3.5' currently installed).\n",
      "  from pandas.core import (\n"
     ]
    }
   ],
   "source": [
    "## import modules\n",
    "import numpy as np\n",
    "import pandas as pd\n",
    "import os\n",
    "## Enable multiple outputs from jupyter cells\n",
    "from IPython.core.interactiveshell import InteractiveShell\n",
    "InteractiveShell.ast_node_interactivity = \"all\"\n",
    "## disable the Pandas \"setting a copy of a slice\" warning\n",
    "pd.options.mode.chained_assignment = None\n",
    "## set default number of DataFrame rows printed to 6\n",
    "pd.set_option('display.max_rows', 10)"
   ]
  },
  {
   "cell_type": "code",
   "execution_count": 4,
   "id": "93d5ddf2-7470-490e-869e-1ec4f21da2ad",
   "metadata": {
    "tags": []
   },
   "outputs": [
    {
     "name": "stdout",
     "output_type": "stream",
     "text": [
      "['id_001.csv', 'id_002.csv', 'id_003.csv', 'id_004.csv', 'id_005.csv', 'id_006.csv', 'id_007.csv', 'id_008.csv', 'id_009.csv', 'id_010.csv', 'id_011.csv', 'id_012.csv', 'id_013.csv', 'id_014.csv', 'id_015.csv', 'id_016.csv', 'id_017.csv', 'id_018.csv', 'id_019.csv', 'id_020.csv', 'id_021.csv', 'id_022.csv', 'id_023.csv', 'id_024.csv', 'id_025.csv', 'id_026.csv', 'id_027.csv', 'id_028.csv', 'id_029.csv', 'id_030.csv', 'id_031.csv', 'id_032.csv', 'id_033.csv', 'id_034.csv', 'id_035.csv', 'id_036.csv', 'id_037.csv', 'id_038.csv', 'id_039.csv', 'id_040.csv']\n"
     ]
    }
   ],
   "source": [
    "# SET UP\n",
    "# Make a folder \"experiment\"\n",
    "# this folder must contain:\n",
    "### a .csv file containing data about your crickets (eg. ovary mass) called \"info\"\n",
    "### a folder containing the .csv files you created, call it \"images_analysis\"\n",
    "##### the .csv files are in the notion of: id_001.csv\n",
    "# set this folder as your working directory\n",
    "# os.getcwd()\n",
    "# os.chdir('path/experiment')\n",
    "\n",
    "# Make a dataframe with the .csv files you made during muscle color quantification (long form)\n",
    "path = './images_analysis'\n",
    "files = [file for file in os.listdir(path) if file.endswith('.csv')]\n",
    "files.sort()\n",
    "dfs = []\n",
    "for file in files:\n",
    "    df = pd.read_csv(os.path.join(path, file))\n",
    "    dfs.append(df)\n",
    "df1 = pd.concat(dfs, ignore_index=True)\\\n",
    "    .rename(columns={'Mean': 'value', ' ': 'color'})\\\n",
    "    .drop(columns=['Area','Min','Max'])\n",
    "df1.color.replace([1, 2, 3, 4, 5, 6, 7, 8, 9], \n",
    "                 ['blue_1', 'blue_2', 'blue_3', 'green_1', 'green_2', 'green_3',\\\n",
    "                  'red_1', 'red_2', 'red_3'], \n",
    "                 inplace=True)\n",
    "list_a = [s.replace(\"id_\", \"\").replace(\".csv\", \"\").lstrip('0') for s in files]\n",
    "\n",
    "## Add cricket id to the dataframe\n",
    "id_list = [eval(i) for i in list_a]\n",
    "## id_list = range(1,(len(files)+1)) #if are continuous from 1 \n",
    "k = 9\n",
    "cricket_id = []\n",
    "for element in id_list:\n",
    "    for i in range(k):\n",
    "        cricket_id.append(element)\n",
    "df1['cricket_id'] = cricket_id\n",
    "wide_df1 = pd.pivot(df1, #pivot wide\n",
    "                    index   = 'cricket_id',\n",
    "                    columns = 'color',\n",
    "                    values  = 'value').reset_index()\n",
    "wide_df1\n",
    "## Make new columns with the means\n",
    "wide_df1['mean_b'] = wide_df1[['blue_1','blue_2','blue_3']].mean(axis=1)\n",
    "wide_df1['mean_g'] = wide_df1[['green_1','green_2','green_3']].mean(axis=1)\n",
    "wide_df1['mean_r'] = wide_df1[['red_1','red_2','red_3']].mean(axis=1)\n",
    "wide_df1.drop(['blue_1','blue_2','blue_3','green_1','green_2','green_3',\\\n",
    "               'red_1','red_2','red_3'], axis=1, inplace=True)\n",
    "long_df1 = pd.melt(wide_df1, id_vars=['cricket_id'], \n",
    "                    value_vars=['mean_g', 'mean_b', 'mean_r'], \n",
    "                    var_name='color', \n",
    "                    value_name='value')"
   ]
  },
  {
   "cell_type": "code",
   "execution_count": 29,
   "id": "f82b1ea1-de85-4259-bbdd-0bf51cfa0af1",
   "metadata": {
    "tags": []
   },
   "outputs": [],
   "source": [
    "# Import other info and merge with long_df1\n",
    "df2 = pd.read_csv('info.csv')\n",
    "merged_df = pd.merge(long_df1, df2, on='cricket_id', how='outer')"
   ]
  },
  {
   "cell_type": "code",
   "execution_count": 30,
   "id": "d3df4c50-d670-40bc-b6ac-21f36c4bb778",
   "metadata": {
    "tags": []
   },
   "outputs": [],
   "source": [
    "# Run this cell if you want to export the dataframe to a .csv file and analysis with other software\n",
    "merged_wide_df = pd.merge(wide_df1, df2, on='cricket_id', how='outer')\n",
    "merged_wide_df.to_csv('file_name.csv', index=False)"
   ]
  },
  {
   "cell_type": "code",
   "execution_count": null,
   "id": "aef079b3-e0e2-4029-bafe-47a71c6a6cc5",
   "metadata": {},
   "outputs": [],
   "source": [
    "# Look at your continuous variables based on the categorical variable identifiers\n",
    "# make some new objects\n",
    "cont_var = ['adult_mass','ovary_mass','age'] #change names based on the column names of the continuous variables in your dataframe\n",
    "cat_var = ['condition','muscle_color','morph','funct']#change names based on the column names of the categorical variables in your dataframe\n",
    "\n",
    "def create_pivot_tables(df, index_col, value_cols, pivot_col):\n",
    "    \"\"\"\n",
    "    Generates pivot tables for each value column in a DataFrame.\n",
    "\n",
    "    Args:\n",
    "        df (pd.DataFrame): The input DataFrame.\n",
    "        index_col (str): Column to use as index for pivot tables.\n",
    "        value_cols (list): List of columns to use as values.\n",
    "        pivot_col (str): Column to pivot.\n",
    "    \"\"\"\n",
    "    for value_col in value_cols:\n",
    "        pivot_table = pd.pivot_table(df, index=index_col, columns=pivot_col, \n",
    "                                     values=value_col, aggfunc='mean')\n",
    "        print(f\"Pivot Table for {value_col}:\")\n",
    "        print(pivot_table)\n",
    "        print(\"\\n\")\n",
    "        \n",
    "# categorical dependent variable (funct, color, morph) with continuous variables (delta mass, total intake, ovary mass)\n",
    "\n",
    "index_column = 'muscle_color'\n",
    "value_columns = cont_var\n",
    "pivot_column = 'condition','morph','funct'\n",
    "\n",
    "create_pivot_tables(lw_df, index_column, value_columns, pivot_column)"
   ]
  },
  {
   "cell_type": "code",
   "execution_count": null,
   "id": "3c3e25a5-3f86-4fab-b2ff-8939a0ae338c",
   "metadata": {},
   "outputs": [],
   "source": [
    "# Look at your continuous variables based on the categorical variable identifiers\n",
    "# create a boxplot\n",
    "sns.boxplot(data=df, \n",
    "            x='condition', \n",
    "            y='blue_channel',\n",
    "            hue='morph',\n",
    "            color='white',\n",
    "            fliersize = 3,\n",
    "            linewidth = 1.2,\n",
    "            width = 0.7,\n",
    "           showfliers=False)\n",
    "\n",
    "# create a strip plot\n",
    "sns.stripplot(data=lw_df, \n",
    "            x='condition', \n",
    "            y='blue_channel',\n",
    "            hue = 'morph', jitter=True,dodge=True,\n",
    "            palette='Set2')\n",
    "\n",
    "# add descriptive texts\n",
    "plt.title('Blue channel value (muscle color) of crickets according to condition and morph', fontsize=12)\n",
    "plt.xlabel('condition')\n",
    "plt.ylabel('blue channel value')"
   ]
  },
  {
   "cell_type": "code",
   "execution_count": null,
   "id": "6792beab-ebcc-402f-9f4a-b30f0e14966e",
   "metadata": {},
   "outputs": [],
   "source": [
    "# Look at your categorical output variable (funct) with categorical variables\n",
    "# create a crosstab\n",
    "\n",
    "for col in cat_var:\n",
    "        cross_table = pd.crosstab(lw_df[\"funct\"], lw_df[col])\n",
    "        print(f\"Crosstab for {col}:\")\n",
    "        print(cross_table)\n",
    "        print(\"\\n\")"
   ]
  },
  {
   "cell_type": "code",
   "execution_count": null,
   "id": "93d0b97b-90ca-4cc2-8062-90190e763f9d",
   "metadata": {},
   "outputs": [],
   "source": [
    "# continuous output variable with continuous variables\n",
    "\n",
    "sns.scatterplot(data=df, x='blue_value', y='ovary_mass', hue='condition', style='morph')"
   ]
  }
 ],
 "metadata": {
  "kernelspec": {
   "display_name": "Python 3 (ipykernel)",
   "language": "python",
   "name": "python3"
  },
  "language_info": {
   "codemirror_mode": {
    "name": "ipython",
    "version": 3
   },
   "file_extension": ".py",
   "mimetype": "text/x-python",
   "name": "python",
   "nbconvert_exporter": "python",
   "pygments_lexer": "ipython3",
   "version": "3.11.5"
  }
 },
 "nbformat": 4,
 "nbformat_minor": 5
}
